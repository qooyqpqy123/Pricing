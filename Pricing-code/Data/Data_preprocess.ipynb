{
 "cells": [
  {
   "cell_type": "code",
   "execution_count": 21,
   "metadata": {
    "collapsed": true
   },
   "outputs": [],
   "source": [
    "import numpy as np\n",
    "import pandas as pd"
   ]
  },
  {
   "cell_type": "code",
   "execution_count": 84,
   "metadata": {},
   "outputs": [
    {
     "data": {
      "text/plain": [
       "Index(['Tier', 'Primary_FICO', 'State', 'Type', 'Apply_Date', 'Approve_Date',\n",
       "       'Fund_Date', 'Term', 'New_Rate', 'Used_Rate', 'Amount_Approved',\n",
       "       'Previous_Rate', 'CarType', 'Competition_rate', 'SAS_Apply_Date',\n",
       "       'SAS_Approve_Date', 'apply', 'rate', 'onemonth', 'NewUsed',\n",
       "       'SAS_Fund_Date', 'buffer', 'enddate', 'days', 'weeks', 'months',\n",
       "       'termclass', 'rate1', 'rel_compet_rate', 'mp', 'mp_rto_amtfinance',\n",
       "       'partnerbin', 'CarType_id'],\n",
       "      dtype='object')"
      ]
     },
     "execution_count": 84,
     "metadata": {},
     "output_type": "execute_result"
    }
   ],
   "source": [
    "df = pd.read_csv(\"AutoLoanData.csv\")\n",
    "df.columns"
   ]
  },
  {
   "cell_type": "code",
   "execution_count": 29,
   "metadata": {},
   "outputs": [
    {
     "data": {
      "text/html": [
       "<div>\n",
       "<style scoped>\n",
       "    .dataframe tbody tr th:only-of-type {\n",
       "        vertical-align: middle;\n",
       "    }\n",
       "\n",
       "    .dataframe tbody tr th {\n",
       "        vertical-align: top;\n",
       "    }\n",
       "\n",
       "    .dataframe thead th {\n",
       "        text-align: right;\n",
       "    }\n",
       "</style>\n",
       "<table border=\"1\" class=\"dataframe\">\n",
       "  <thead>\n",
       "    <tr style=\"text-align: right;\">\n",
       "      <th></th>\n",
       "      <th>apply</th>\n",
       "      <th>Primary_FICO</th>\n",
       "      <th>Amount_Approved</th>\n",
       "      <th>onemonth</th>\n",
       "      <th>Competition_rate</th>\n",
       "      <th>mp</th>\n",
       "      <th>Term</th>\n",
       "    </tr>\n",
       "  </thead>\n",
       "  <tbody>\n",
       "    <tr>\n",
       "      <th>0</th>\n",
       "      <td>0</td>\n",
       "      <td>695</td>\n",
       "      <td>35000.0</td>\n",
       "      <td>1.8388</td>\n",
       "      <td>6.25</td>\n",
       "      <td>604.984462</td>\n",
       "      <td>72</td>\n",
       "    </tr>\n",
       "    <tr>\n",
       "      <th>1</th>\n",
       "      <td>0</td>\n",
       "      <td>751</td>\n",
       "      <td>40000.0</td>\n",
       "      <td>1.8388</td>\n",
       "      <td>5.65</td>\n",
       "      <td>763.861873</td>\n",
       "      <td>60</td>\n",
       "    </tr>\n",
       "    <tr>\n",
       "      <th>2</th>\n",
       "      <td>0</td>\n",
       "      <td>731</td>\n",
       "      <td>18064.0</td>\n",
       "      <td>1.8388</td>\n",
       "      <td>5.65</td>\n",
       "      <td>344.960022</td>\n",
       "      <td>60</td>\n",
       "    </tr>\n",
       "    <tr>\n",
       "      <th>3</th>\n",
       "      <td>0</td>\n",
       "      <td>652</td>\n",
       "      <td>15415.0</td>\n",
       "      <td>1.8388</td>\n",
       "      <td>6.25</td>\n",
       "      <td>277.787156</td>\n",
       "      <td>72</td>\n",
       "    </tr>\n",
       "    <tr>\n",
       "      <th>4</th>\n",
       "      <td>0</td>\n",
       "      <td>730</td>\n",
       "      <td>32000.0</td>\n",
       "      <td>1.8388</td>\n",
       "      <td>5.65</td>\n",
       "      <td>744.061380</td>\n",
       "      <td>48</td>\n",
       "    </tr>\n",
       "  </tbody>\n",
       "</table>\n",
       "</div>"
      ],
      "text/plain": [
       "   apply  Primary_FICO  Amount_Approved  onemonth  Competition_rate  \\\n",
       "0      0           695          35000.0    1.8388              6.25   \n",
       "1      0           751          40000.0    1.8388              5.65   \n",
       "2      0           731          18064.0    1.8388              5.65   \n",
       "3      0           652          15415.0    1.8388              6.25   \n",
       "4      0           730          32000.0    1.8388              5.65   \n",
       "\n",
       "           mp  Term  \n",
       "0  604.984462    72  \n",
       "1  763.861873    60  \n",
       "2  344.960022    60  \n",
       "3  277.787156    72  \n",
       "4  744.061380    48  "
      ]
     },
     "execution_count": 29,
     "metadata": {},
     "output_type": "execute_result"
    }
   ],
   "source": [
    "df1 = df[['apply', 'Primary_FICO', 'Amount_Approved', 'onemonth', 'Competition_rate', 'mp', 'Term']].copy(deep=True)\n",
    "T = df1.shape[0]\n",
    "df1.head()\n",
    "# apply: binary feedback\n",
    "# Primary_FICO - Competition_rate: features"
   ]
  },
  {
   "cell_type": "code",
   "execution_count": null,
   "metadata": {
    "collapsed": true
   },
   "outputs": [],
   "source": [
    "## compute the price column\n",
    "libor = 1.44 / 100 / 12\n",
    "ro = 1 / (1 + libor)\n",
    "df1['price'] = 0.0\n",
    "for t in range(T):\n",
    "    if np.mod(t, 10000) == 0:\n",
    "        print(t, end = ' ')\n",
    "    mp_t = df1.iloc[t]['mp']\n",
    "    Term_t = df1.iloc[t]['Term']\n",
    "    loan_t = df.iloc[t]['Amount_Approved']\n",
    "    df1.loc[[t], ['price']] = mp_t * (ro - ro ** (Term_t + 1)) / (1 - ro) - loan_t "
   ]
  },
  {
   "cell_type": "code",
   "execution_count": 80,
   "metadata": {},
   "outputs": [],
   "source": [
    "## normalization\n",
    "for feature in ['Primary_FICO', 'Amount_Approved', 'onemonth', 'Competition_rate', 'price']:\n",
    "    colarr = np.array(df1.loc[:, [feature]])\n",
    "    colmax = np.max(colarr)\n",
    "    col_normalized = colarr / colmax\n",
    "    df1.loc[:, [feature]] = col_normalized"
   ]
  },
  {
   "cell_type": "code",
   "execution_count": 81,
   "metadata": {},
   "outputs": [],
   "source": [
    "df2 = df1[['apply', 'Primary_FICO', 'Amount_Approved', 'onemonth', 'Competition_rate', 'price']]"
   ]
  },
  {
   "cell_type": "code",
   "execution_count": 82,
   "metadata": {},
   "outputs": [
    {
     "data": {
      "text/html": [
       "<div>\n",
       "<style scoped>\n",
       "    .dataframe tbody tr th:only-of-type {\n",
       "        vertical-align: middle;\n",
       "    }\n",
       "\n",
       "    .dataframe tbody tr th {\n",
       "        vertical-align: top;\n",
       "    }\n",
       "\n",
       "    .dataframe thead th {\n",
       "        text-align: right;\n",
       "    }\n",
       "</style>\n",
       "<table border=\"1\" class=\"dataframe\">\n",
       "  <thead>\n",
       "    <tr style=\"text-align: right;\">\n",
       "      <th></th>\n",
       "      <th>apply</th>\n",
       "      <th>Primary_FICO</th>\n",
       "      <th>Amount_Approved</th>\n",
       "      <th>onemonth</th>\n",
       "      <th>Competition_rate</th>\n",
       "      <th>price</th>\n",
       "    </tr>\n",
       "  </thead>\n",
       "  <tbody>\n",
       "    <tr>\n",
       "      <th>0</th>\n",
       "      <td>0</td>\n",
       "      <td>0.813817</td>\n",
       "      <td>0.35000</td>\n",
       "      <td>0.864504</td>\n",
       "      <td>0.968992</td>\n",
       "      <td>0.245394</td>\n",
       "    </tr>\n",
       "    <tr>\n",
       "      <th>1</th>\n",
       "      <td>0</td>\n",
       "      <td>0.879391</td>\n",
       "      <td>0.40000</td>\n",
       "      <td>0.864504</td>\n",
       "      <td>0.875969</td>\n",
       "      <td>0.153507</td>\n",
       "    </tr>\n",
       "    <tr>\n",
       "      <th>2</th>\n",
       "      <td>0</td>\n",
       "      <td>0.855972</td>\n",
       "      <td>0.18064</td>\n",
       "      <td>0.864504</td>\n",
       "      <td>0.875969</td>\n",
       "      <td>0.069324</td>\n",
       "    </tr>\n",
       "    <tr>\n",
       "      <th>3</th>\n",
       "      <td>0</td>\n",
       "      <td>0.763466</td>\n",
       "      <td>0.15415</td>\n",
       "      <td>0.864504</td>\n",
       "      <td>0.968992</td>\n",
       "      <td>0.136671</td>\n",
       "    </tr>\n",
       "    <tr>\n",
       "      <th>4</th>\n",
       "      <td>0</td>\n",
       "      <td>0.854801</td>\n",
       "      <td>0.32000</td>\n",
       "      <td>0.864504</td>\n",
       "      <td>0.875969</td>\n",
       "      <td>0.098272</td>\n",
       "    </tr>\n",
       "  </tbody>\n",
       "</table>\n",
       "</div>"
      ],
      "text/plain": [
       "   apply  Primary_FICO  Amount_Approved  onemonth  Competition_rate     price\n",
       "0      0      0.813817          0.35000  0.864504          0.968992  0.245394\n",
       "1      0      0.879391          0.40000  0.864504          0.875969  0.153507\n",
       "2      0      0.855972          0.18064  0.864504          0.875969  0.069324\n",
       "3      0      0.763466          0.15415  0.864504          0.968992  0.136671\n",
       "4      0      0.854801          0.32000  0.864504          0.875969  0.098272"
      ]
     },
     "execution_count": 82,
     "metadata": {},
     "output_type": "execute_result"
    }
   ],
   "source": [
    "df2.head()"
   ]
  },
  {
   "cell_type": "code",
   "execution_count": 85,
   "metadata": {},
   "outputs": [],
   "source": [
    "df2.to_csv('Loan_preprocessed.csv')"
   ]
  }
 ],
 "metadata": {
  "kernelspec": {
   "display_name": "Python 3",
   "language": "python",
   "name": "python3"
  },
  "language_info": {
   "codemirror_mode": {
    "name": "ipython",
    "version": 3
   },
   "file_extension": ".py",
   "mimetype": "text/x-python",
   "name": "python",
   "nbconvert_exporter": "python",
   "pygments_lexer": "ipython3",
   "version": "3.6.3"
  }
 },
 "nbformat": 4,
 "nbformat_minor": 2
}
